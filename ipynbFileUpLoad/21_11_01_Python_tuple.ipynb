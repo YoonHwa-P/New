{
 "cells": [
  {
   "cell_type": "markdown",
   "metadata": {
    "colab_type": "text",
    "id": "view-in-github"
   },
   "source": [
    "<a href=\"https://colab.research.google.com/github/YoonHwa-P/MyBlog/blob/main/21_11_01_Python_tuple.ipynb\" target=\"_parent\"><img src=\"https://colab.research.google.com/assets/colab-badge.svg\" alt=\"Open In Colab\"/></a>"
   ]
  },
  {
   "cell_type": "markdown",
   "metadata": {
    "id": "CjmlDeMgQQs2"
   },
   "source": []
  },
  {
   "cell_type": "markdown",
   "metadata": {
    "id": "JHhb7kTRkhLU"
   },
   "source": [
    "# Tuple"
   ]
  },
  {
   "cell_type": "markdown",
   "metadata": {
    "id": "0meJMbUEklT4"
   },
   "source": [
    "Tuple은 List에비해 메모리 사용 효율이 좋지만, 정보 수정이 어렵다. splicing 기능, +, * 의 연산은 가능하다. \n"
   ]
  },
  {
   "cell_type": "code",
   "execution_count": null,
   "metadata": {
    "id": "GJiFspcxmE6O"
   },
   "outputs": [],
   "source": []
  },
  {
   "cell_type": "markdown",
   "metadata": {
    "id": "43qVhPIQmFUY"
   },
   "source": [
    "# Dictionary"
   ]
  },
  {
   "cell_type": "markdown",
   "metadata": {
    "id": "jT-GUHszmSyU"
   },
   "source": []
  },
  {
   "cell_type": "code",
   "execution_count": null,
   "metadata": {
    "id": "NpCmj6LdmSg5"
   },
   "outputs": [],
   "source": []
  },
  {
   "cell_type": "markdown",
   "metadata": {
    "id": "LR0yEnbconoA"
   },
   "source": [
    "# If 조건문"
   ]
  },
  {
   "cell_type": "markdown",
   "metadata": {
    "id": "tW0xnbjsoqef"
   },
   "source": []
  },
  {
   "cell_type": "code",
   "execution_count": null,
   "metadata": {
    "id": "amELM9-YoqZB"
   },
   "outputs": [],
   "source": []
  },
  {
   "cell_type": "markdown",
   "metadata": {
    "id": "ZuURZR4PorLD"
   },
   "source": [
    "# for 반복문"
   ]
  },
  {
   "cell_type": "markdown",
   "metadata": {
    "id": "caHb17KPow86"
   },
   "source": []
  },
  {
   "cell_type": "code",
   "execution_count": null,
   "metadata": {
    "id": "UIq2AoJKow0f"
   },
   "outputs": [],
   "source": []
  }
 ],
 "metadata": {
  "colab": {
   "authorship_tag": "ABX9TyNXacnurh+AvVNHW0RF365f",
   "collapsed_sections": [],
   "include_colab_link": true,
   "name": "21.11.01_Python_tuple.ipynb",
   "provenance": [],
   "toc_visible": true
  },
  "kernelspec": {
   "display_name": "Python 3",
   "language": "python",
   "name": "python3"
  },
  "language_info": {
   "codemirror_mode": {
    "name": "ipython",
    "version": 3
   },
   "file_extension": ".py",
   "mimetype": "text/x-python",
   "name": "python",
   "nbconvert_exporter": "python",
   "pygments_lexer": "ipython3",
   "version": "3.8.8"
  }
 },
 "nbformat": 4,
 "nbformat_minor": 1
}
