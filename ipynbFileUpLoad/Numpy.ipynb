{
 "cells": [
  {
   "cell_type": "markdown",
   "metadata": {
    "colab_type": "text",
    "id": "view-in-github"
   },
   "source": [
    "<a href=\"https://colab.research.google.com/github/YoonHwa-P/MyBlog/blob/main/Numpy.ipynb\" target=\"_parent\"><img src=\"https://colab.research.google.com/assets/colab-badge.svg\" alt=\"Open In Colab\"/></a>"
   ]
  },
  {
   "cell_type": "markdown",
   "metadata": {
    "id": "jElIZ_g-zC6u"
   },
   "source": [
    "# Numpy"
   ]
  },
  {
   "cell_type": "markdown",
   "metadata": {
    "id": "-HBwPcyWzS_2"
   },
   "source": [
    "## **Numpy 정의**\n",
    "\n",
    "NumPy는 행렬이나 일반적으로 대규모 다차원 배열을 쉽게 처리 할 수 있도록 지원하는 파이썬의 라이브러리\n",
    "Numpy는 데이터 구조 외에도 수치 계산을 위해 효율적으로 구현된 기능을 제시 한다. \n",
    "\n",
    "\n",
    "Ref. [Wiki](https://ko.wikipedia.org/wiki/NumPy)\n"
   ]
  },
  {
   "cell_type": "markdown",
   "metadata": {
    "id": "mJMqKtS8z7FZ"
   },
   "source": [
    "\n",
    "\n",
    "---\n",
    "## 라이브러리에서 numpy 불러오기\n"
   ]
  },
  {
   "cell_type": "markdown",
   "metadata": {
    "id": "mXhvc_hO02GH"
   },
   "source": [
    "우리는 numpy를 import 하여 numpy에 내장되어 있는 함수를 가져와 쓸 수 있다. 일반적으로 np에 저장하여 많이 사용 하는 듯 하다. "
   ]
  },
  {
   "cell_type": "code",
   "execution_count": null,
   "metadata": {
    "colab": {
     "base_uri": "https://localhost:8080/"
    },
    "id": "9NypdTiDy2r-",
    "outputId": "ca2e7675-3aae-484b-fb02-1cda322b10f7"
   },
   "outputs": [
    {
     "name": "stdout",
     "output_type": "stream",
     "text": [
      "1.19.5\n",
      "Numpy의 version을 확인 해 볼 수 있다. \n",
      "<class 'numpy.ndarray'>\n"
     ]
    }
   ],
   "source": [
    "import numpy as np\n",
    "print(np.__version__)\n",
    "\n",
    "print (\"Numpy의 version을 확인 해 볼 수 있다. \")\n",
    "\n",
    "temp = np.array([1, 2, 3])\n",
    "print(type(temp))\n",
    "\n",
    "print (\"Numpy의 type은 nd array인 것을 볼 수 있다.  \")"
   ]
  },
  {
   "cell_type": "markdown",
   "metadata": {
    "id": "YoaRKlDf0SER"
   },
   "source": [
    "Numpy의 Type을 보면 nd array 인 것을 볼 수 있는데 \n",
    "\n",
    "ND : N dimension  을 의미한다. \n",
    "즉 한국어로 번역 해 보면 N차 행렬 정도로 볼 수 있다. "
   ]
  },
  {
   "cell_type": "markdown",
   "metadata": {
    "id": "J718SJZ41Kt2"
   },
   "source": [
    "## Numpy 에서 배열을 생성 해 보자."
   ]
  },
  {
   "cell_type": "markdown",
   "metadata": {
    "id": "iLi0KDlq1PUu"
   },
   "source": [
    "### 1차원 배열 생성\n",
    "1차원의 배열을 생성해서 array와 List의 다른 점을 알아보자.\n",
    "\n",
    "차이점은 shpae를 찍어 보면 알 수 있다. \n",
    "내장 함수 : (fuction or method or attribute)"
   ]
  },
  {
   "cell_type": "code",
   "execution_count": null,
   "metadata": {
    "colab": {
     "base_uri": "https://localhost:8080/"
    },
    "id": "H8I5YwRg1JvT",
    "outputId": "cbc5df9d-a31d-40a2-c5a9-72c1f11e95d6"
   },
   "outputs": [
    {
     "name": "stdout",
     "output_type": "stream",
     "text": [
      "data1은 List이다. \n",
      "[0, 1, 2, 3, 4]\n",
      "<class 'list'>\n",
      "My_array은 numpy형식의 tuple인 것을 알 수 있다.  \n",
      "[0 1 2 3 4]\n",
      "(5,)\n",
      "<class 'numpy.ndarray'>\n",
      ".dtype() 는 data의 type을 확인 할 수 있는 function 이다.\n",
      "int64\n"
     ]
    }
   ],
   "source": [
    "data1 = [0, 1, 2, 3, 4]\n",
    "data2 = [10, 9, 8, 7, 6]\n",
    "\n",
    "My_array = np.array(data1)\n",
    "\n",
    "print(\"data1은 List이다. \")\n",
    "print(data1)\n",
    "print(type(data1))\n",
    "#print(data1.shape)  \n",
    "#List의 경우 shape 함수가 내장 되어 있지 않아 shape를 알 수 없다. \n",
    "print(\"My_array은 numpy형식의 tuple인 것을 알 수 있다.  \")\n",
    "print(My_array)\n",
    "print(My_array.shape)\n",
    "print(type(My_array))\n",
    "\n",
    "print(\".dtype() 는 data의 type을 확인 할 수 있는 function 이다.\")\n",
    "print(My_array.dtype)\n"
   ]
  },
  {
   "cell_type": "markdown",
   "metadata": {
    "id": "DHkT-ghXFw4F"
   },
   "source": [
    " [List](https://colab.research.google.com/github/YoonHwa-P/MyBlog/blob/main/21_11_01_Python_List.ipynb) 형식의 경우 shape 함수가 내장 되어 있지 않은 반면, \n",
    "numpy 형식의 np.array 의 경우  [tuple](https://colab.research.google.com/github/YoonHwa-P/MyBlog/blob/main/21_11_01_Python_tuple.ipynb) shape 함수가 내장 되어 에러가 나지 않과 (5, )의 형태로 result가 나오는 것 을 볼 수 있다. \n",
    "\n",
    "\n",
    ".dtype() 는 data의 type을 확인 할 수 있는 function 이다.\n",
    "이때 나타나는 int 64는 64byte의 타입 이라는 것을 알려 준다. \n",
    "\n",
    "\n",
    "https://rfriend.tistory.com/285\n"
   ]
  },
  {
   "cell_type": "markdown",
   "metadata": {
    "id": "dSbvL4pY21cJ"
   },
   "source": [
    "### 2차원 배열 생성 \n",
    "\n",
    "4 X 3 배열을 만들어 보자."
   ]
  },
  {
   "cell_type": "code",
   "execution_count": null,
   "metadata": {
    "colab": {
     "base_uri": "https://localhost:8080/"
    },
    "id": "NAYOa8vvKX11",
    "outputId": "4428821f-1b24-42dc-f08f-2e7280a699d3"
   },
   "outputs": [
    {
     "name": "stdout",
     "output_type": "stream",
     "text": [
      "[[ 2  4  6]\n",
      " [ 8 10 12]\n",
      " [14 16 18]\n",
      " [20 22 24]]\n"
     ]
    },
    {
     "data": {
      "text/plain": [
       "(4, 3)"
      ]
     },
     "execution_count": 14,
     "metadata": {},
     "output_type": "execute_result"
    }
   ],
   "source": [
    "my_array4 = np.array([[2,4,6],[8,10,12],[14,16,18],[20,22,24]])\n",
    "print(my_array4)\n",
    "\n",
    "my_array4.shape"
   ]
  },
  {
   "cell_type": "markdown",
   "metadata": {
    "id": "DFBt0K2DKqrC"
   },
   "source": [
    "### 3차원 배열 생성 "
   ]
  },
  {
   "cell_type": "code",
   "execution_count": null,
   "metadata": {
    "colab": {
     "base_uri": "https://localhost:8080/"
    },
    "id": "whXzTuYYKukR",
    "outputId": "a4df2f63-9456-4922-b2cc-1badbbfcb4f5"
   },
   "outputs": [
    {
     "name": "stdout",
     "output_type": "stream",
     "text": [
      "[[[1 2]\n",
      "  [3 4]]\n",
      "\n",
      " [[5 6]\n",
      "  [7 8]]]\n"
     ]
    },
    {
     "data": {
      "text/plain": [
       "(2, 2, 2)"
      ]
     },
     "execution_count": 15,
     "metadata": {},
     "output_type": "execute_result"
    }
   ],
   "source": [
    "my_array5 = np.array([[[1, 2], [3, 4]], [[5, 6], [7, 8]]])\n",
    "print(my_array5)\n",
    "my_array5.shape"
   ]
  },
  {
   "cell_type": "markdown",
   "metadata": {
    "id": "NvUztT3sMOhV"
   },
   "source": [
    "## Numpy 기본 함수들\n",
    "\n",
    "  +  arange\n",
    "  +  zeroes, ones\n",
    "  + reshape\n",
    "  + sort\n",
    "  + argsort\n"
   ]
  },
  {
   "cell_type": "markdown",
   "metadata": {
    "id": "gpWkZcjwRIeI"
   },
   "source": [
    "### arange\n",
    "np.arange(5)를 넣으면 array안에 5개의 숫자가 순서대로 나오는 배열이 자동으로 만들어진다."
   ]
  },
  {
   "cell_type": "code",
   "execution_count": null,
   "metadata": {
    "colab": {
     "base_uri": "https://localhost:8080/"
    },
    "id": "BVe4hanoRLsJ",
    "outputId": "ab149197-d959-4dd4-e9fe-c577fef78537"
   },
   "outputs": [
    {
     "name": "stdout",
     "output_type": "stream",
     "text": [
      "[0 1 2 3 4]\n"
     ]
    }
   ],
   "source": [
    "Array = np.arange(5)\n",
    "print(Array)"
   ]
  },
  {
   "cell_type": "markdown",
   "metadata": {
    "id": "QDVNxz6BRbjb"
   },
   "source": [
    "np.arange(a, b, c) : a의 숫자부터 b 숫자까지 C씩 띄워서 배열생성 "
   ]
  },
  {
   "cell_type": "code",
   "execution_count": null,
   "metadata": {
    "colab": {
     "base_uri": "https://localhost:8080/"
    },
    "id": "b-O4RNLKRe-J",
    "outputId": "7cf093c8-7f8f-4b19-955c-757ff90e817e"
   },
   "outputs": [
    {
     "name": "stdout",
     "output_type": "stream",
     "text": [
      "[1 3 5 7]\n"
     ]
    }
   ],
   "source": [
    "aArray = np.arange(1, 9, 2)\n",
    "print(aArray)"
   ]
  },
  {
   "cell_type": "markdown",
   "metadata": {
    "id": "Q4Dj73-ERqI7"
   },
   "source": [
    "### zeroes, ones \n",
    "zeroes와 ones 함수를 살펴 보자 \n",
    "각 함수들은 0과 1을 채워 넣어 배열을 생성하는 함수 들 이다. \n"
   ]
  },
  {
   "cell_type": "code",
   "execution_count": null,
   "metadata": {
    "colab": {
     "base_uri": "https://localhost:8080/"
    },
    "id": "vgz-P0nkRyhg",
    "outputId": "35d27db0-7975-4d08-8853-54ee60f3116c"
   },
   "outputs": [
    {
     "name": "stdout",
     "output_type": "stream",
     "text": [
      "Zeros_Array\n",
      "[[0. 0. 0.]\n",
      " [0. 0. 0.]]\n",
      "Data Type is: float64\n",
      "Data Shape is: (2, 3)\n",
      "Ones_Array\n",
      "[[1 1 1 1]\n",
      " [1 1 1 1]\n",
      " [1 1 1 1]]\n",
      "Data Type is: int32\n",
      "Data Shape is: (3, 4)\n"
     ]
    }
   ],
   "source": [
    "print(\"Zeros_Array\")\n",
    "zeros_array = np.zeros((2,3))\n",
    "print(zeros_array)\n",
    "print(\"Data Type is:\", zeros_array.dtype)\n",
    "print(\"Data Shape is:\", zeros_array.shape)\n",
    "\n",
    "print(\"Ones_Array\")\n",
    "ones_array = np.ones((3,4), dtype='int32')\n",
    "print(ones_array)\n",
    "print(\"Data Type is:\", ones_array.dtype)\n",
    "print(\"Data Shape is:\", ones_array.shape)"
   ]
  },
  {
   "cell_type": "markdown",
   "metadata": {
    "id": "-PfDXJpaSBbC"
   },
   "source": [
    "8행에 보면 Array를 행성 하면서 dtype을 **int32**로 지정 해 준 것을 볼 수 있다. \n",
    "\n",
    "Zeros_Array의 경우 채워진 0들이 모두 float type의 실수 이기 때문에 0. 이라고 나타는 것을 볼 수 있지만, Ones_Array의 경우 1 만 나타난 Int 형태의 type인 것을 볼 수 있다. "
   ]
  },
  {
   "cell_type": "markdown",
   "metadata": {
    "id": "ks90sCWgTL07"
   },
   "source": [
    "### reshape\n",
    "reshape는 행렬의 모양을 바꿔주는 함수이다. \n",
    "행렬의 모양을 바꿀 때에는 약간의 제약이 있는데\n",
    "예를 들어 설명 해 보자면,\n",
    "\n",
    "\n",
    " 3X4 = 12, 6X2 =12로 형태 변환을 할 수 있지만,\n",
    "3X5 = 15이기 때문에 변환이 불가능 하다. \n",
    "이것이 이해가 가지 않는다면 중학교로 돌아 가야 할 지도 모른다. \n",
    "\n",
    "\n"
   ]
  },
  {
   "cell_type": "code",
   "execution_count": null,
   "metadata": {
    "colab": {
     "base_uri": "https://localhost:8080/"
    },
    "id": "vfFOFpKdTfwU",
    "outputId": "4021f201-3323-474b-b21b-fc39c552dedc"
   },
   "outputs": [
    {
     "name": "stdout",
     "output_type": "stream",
     "text": [
      "[[1 1 1 1]\n",
      " [1 1 1 1]\n",
      " [1 1 1 1]]\n",
      "Data Shape is: (3, 4)\n",
      "Ones_array의 형태를 reshpe로 바꿔보자\n",
      "[[1 1]\n",
      " [1 1]\n",
      " [1 1]\n",
      " [1 1]\n",
      " [1 1]\n",
      " [1 1]]\n",
      "Data Shape is: (6, 2)\n"
     ]
    }
   ],
   "source": [
    "print(ones_array)\n",
    "print(\"Data Shape is:\", ones_array.shape)\n",
    "print(\"Ones_array의 형태를 reshpe로 바꿔보자 \\n\")\n",
    "after_reshape = ones_array.reshape(6,2)\n",
    "print(after_reshape)\n",
    "print(\"Data Shape is:\", after_reshape.shape)"
   ]
  },
  {
   "cell_type": "markdown",
   "metadata": {
    "id": "Y9mk_AMrUA1t"
   },
   "source": [
    "2차원 배열은 3차원으로도 reshape 할 수 있다.\n",
    " \n",
    "제약 조건은 3 X 4 = 12 였기 때문에 2 X 3 X 2 = 12가 되기 때문에 reshape 가 가능 하다. "
   ]
  },
  {
   "cell_type": "code",
   "execution_count": null,
   "metadata": {
    "colab": {
     "base_uri": "https://localhost:8080/"
    },
    "id": "wKye_fzBUJ0f",
    "outputId": "817ee89b-47cd-4f50-fb46-972ae12f5553"
   },
   "outputs": [
    {
     "name": "stdout",
     "output_type": "stream",
     "text": [
      "[[[1 1]\n",
      "  [1 1]\n",
      "  [1 1]]\n",
      "\n",
      " [[1 1]\n",
      "  [1 1]\n",
      "  [1 1]]]\n",
      "Data Shape is: (2, 3, 2) \n",
      "\n",
      "reshape(-1,6)? \n",
      "\n",
      "[[1 1 1 1 1 1]\n",
      " [1 1 1 1 1 1]]\n",
      "reshape(3, -1)? \n",
      "\n",
      "[[1 1 1 1]\n",
      " [1 1 1 1]\n",
      " [1 1 1 1]]\n",
      "Data Shape is: (3, 4)\n"
     ]
    }
   ],
   "source": [
    "after_reshape = ones_array.reshape(2,3,2)\n",
    "print(after_reshape)\n",
    "print(\"Data Shape is:\", after_reshape.shape, \"\\n\")\n",
    "\n",
    "after_reshape2= ones_array.reshape(-1,6)\n",
    "print(\"reshape(-1,6)? \\n\")\n",
    "print(after_reshape2)\n",
    "\n",
    "after_reshape3= ones_array.reshape(3,-1)\n",
    "print(\"reshape(3, -1)? \\n\")\n",
    "print(after_reshape3)\n",
    "print(\"Data Shape is:\", after_reshape3.shape)"
   ]
  },
  {
   "cell_type": "markdown",
   "metadata": {
    "id": "i7vLw2tAUzIC"
   },
   "source": [
    "만일 2차 행렬 reshape에서 한개의 변수만 정해 졌다면, 나머지 는 -1을 써주면 자동으로 알맞은 변수를 정해 줍니다. \n",
    "\n",
    "\n",
    "3차 행렬 역시 남은 1개만 -1을 써서 reshape 함수로 행렬을 변환 할 수 있습니다. "
   ]
  },
  {
   "cell_type": "markdown",
   "metadata": {
    "id": "kykCjG-GWtqY"
   },
   "source": [
    "\n",
    "\n",
    "---\n",
    "\n",
    "21.11.02(이 아래 부분은 다음에 UPdate하기로 한다. )\n"
   ]
  },
  {
   "cell_type": "markdown",
   "metadata": {
    "id": "wLKDE5U3WSm6"
   },
   "source": [
    "### short\n",
    "\n"
   ]
  },
  {
   "cell_type": "code",
   "execution_count": null,
   "metadata": {
    "id": "6DynmK5PWSH-"
   },
   "outputs": [],
   "source": []
  },
  {
   "cell_type": "markdown",
   "metadata": {
    "id": "ZDZ4X9fkWii3"
   },
   "source": [
    "### argsort"
   ]
  },
  {
   "cell_type": "markdown",
   "metadata": {
    "id": "dDrUWWwUMkwt"
   },
   "source": [
    "## Numpy 인덱싱과 슬라이딩"
   ]
  },
  {
   "cell_type": "markdown",
   "metadata": {
    "id": "LjbApI6IMorq"
   },
   "source": [
    "## Numpy 정렬"
   ]
  }
 ],
 "metadata": {
  "colab": {
   "authorship_tag": "ABX9TyO7ij9XGXQXlqBHlJ+A9mXn",
   "collapsed_sections": [],
   "include_colab_link": true,
   "name": "Numpy.ipynb",
   "provenance": [],
   "toc_visible": true
  },
  "kernelspec": {
   "display_name": "Python 3",
   "language": "python",
   "name": "python3"
  },
  "language_info": {
   "codemirror_mode": {
    "name": "ipython",
    "version": 3
   },
   "file_extension": ".py",
   "mimetype": "text/x-python",
   "name": "python",
   "nbconvert_exporter": "python",
   "pygments_lexer": "ipython3",
   "version": "3.8.8"
  }
 },
 "nbformat": 4,
 "nbformat_minor": 1
}
