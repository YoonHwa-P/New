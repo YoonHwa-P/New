{
 "cells": [
  {
   "cell_type": "markdown",
   "metadata": {},
   "source": [
    "---\n",
    "title : \"\\[ 받쓰 공부 \\]_211105\"\n",
    "date : 2021-11-05 15:11:05\n",
    "\n",
    "---\n",
    "\n",
    "the-typical-kaggle-data-scientist-in-2021\n",
    "## Kaggle Note로 받쓰하면서 공부하기 \n"
   ]
  },
  {
   "cell_type": "code",
   "execution_count": 2,
   "metadata": {
    "_cell_guid": "b1076dfc-b9ad-4769-8c92-a6c4dae69d19",
    "_uuid": "8f2839f25d086af736a60e9eeb907d3b93b6e0e5",
    "execution": {
     "iopub.execute_input": "2021-11-05T06:03:12.056130Z",
     "iopub.status.busy": "2021-11-05T06:03:12.054942Z",
     "iopub.status.idle": "2021-11-05T06:03:12.070332Z",
     "shell.execute_reply": "2021-11-05T06:03:12.069289Z",
     "shell.execute_reply.started": "2021-11-05T06:03:12.056078Z"
    }
   },
   "outputs": [],
   "source": [
    "# This Python 3 environment, PKG Load\n",
    "import numpy as np # linear algebra\n",
    "import pandas as pd # data processing, CSV file I/O (e.g. pd.read_csv)\n",
    "\n",
    "# Input data files : \"../input/\" \n",
    "# Running : Shift+Enter\n",
    "\n",
    "import os\n",
    "for dirname, _, filenames in os.walk('/kaggle/input'):\n",
    "    for filename in filenames:\n",
    "        print(os.path.join(dirname, filename))\n",
    "\n",
    "# ~ 20GB ,/kaggle/temp/\n",
    "\n",
    "\n"
   ]
  },
  {
   "cell_type": "markdown",
   "metadata": {},
   "source": [
    "<center style=\"font-size:200%; font-family:Hiragino Kaku Gothic Pro, sans-serif\"><b> The Typical Kaggle Data Scientist in 2021</b></center>\n",
    "\n",
    "<br><br>\n",
    "\n",
    "<center style=\"font-size:200%; font-family:Hiragino Kaku Gothic Pro, sans-serif\"> Remade By @YoonHwa-P</center>\n",
    "\n",
    "<center><img src='https://www.gcppodcast.com/images/post/kaggle.png'></center>"
   ]
  },
  {
   "cell_type": "markdown",
   "metadata": {},
   "source": [
    "HTML code는 Markdown 형식으로 넣을 수 있게 해 준다.\n",
    "\n",
    "scr : [구글 팟케스트](https://www.gcppodcast.com/)에서 바로 연결하여 사용."
   ]
  },
  {
   "cell_type": "code",
   "execution_count": 11,
   "metadata": {
    "execution": {
     "iopub.execute_input": "2021-11-05T06:53:45.710887Z",
     "iopub.status.busy": "2021-11-05T06:53:45.710601Z",
     "iopub.status.idle": "2021-11-05T06:53:46.812996Z",
     "shell.execute_reply": "2021-11-05T06:53:46.812039Z",
     "shell.execute_reply.started": "2021-11-05T06:53:45.710856Z"
    }
   },
   "outputs": [],
   "source": [
    "import pandas as pd\n",
    "import numpy as np\n",
    "import seaborn as sns\n",
    "import plotly.express as px\n",
    "import plotly.graph_objects as go\n",
    "\n",
    "import warnings\n",
    "warnings.filterwarnings('ignore')\n",
    "\n",
    "\n"
   ]
  },
  {
   "cell_type": "markdown",
   "metadata": {},
   "source": [
    "시각화, 계산을 위해 Pandas, Numpy, seaborn을 이용 할 것이고, 동적보드를 만들기 위해 plotly를 이용 하였다. \n",
    "\n",
    "plotly 중에서 Express와 Graph_objects를 가져와서 사용 할 예정인듯.\n",
    "\n",
    "[plotly-express](https://plotly.com/python/plotly-express/)\n",
    "\n",
    "The Plotly Express API in general offers the following features:\n",
    "\n",
    "Every PX function returns a** plotly.graph_objects.Figure object**, so you can edit it using all the same methods like update_layout and add_trace.\n",
    "\n",
    "input으로 Express를 사용 한다면  Graph_objects가 동적 plotly 를 만드는 것 같다. : update 하거나 trace를 가능 하게 하는듯.\n"
   ]
  },
  {
   "cell_type": "markdown",
   "metadata": {},
   "source": [
    "실제 필사할  data에서는 어떤 data가 있는지 확인 해 보지 않았지만, \n",
    "나는 배우는 입장이니 어떤 data가 있는지, 어떤 head가 있는지 확인 해 보도록 한다. \n",
    "\n",
    "맨 위에 가보면 Note가 생성 될때 \n",
    "\n",
    "    /kaggle/input/kaggle-survey-2021/kaggle_survey_2021_responses.csv\n",
    "    /kaggle/input/kaggle-survey-2021/supplementary_data/kaggle_survey_2021_methodology.pdf\n",
    "    /kaggle/input/kaggle-survey-2021/supplementary_data/kaggle_survey_2021_answer_choices.pdf\n",
    "\n",
    "위와같은 file dir을 알려준다. 이제, pandas로 이 files를 로딩 시켜 주면된다. \n",
    "\n",
    "Ref. [Kaggle활용.국문](https://teddylee777.github.io/kaggle/kaggle%EC%97%90%EC%84%9C-%EC%A0%9C%EA%B3%B5%ED%95%98%EB%8A%94-notebook-%ED%99%9C%EC%9A%A9%ED%95%98%EA%B8%B0)\n"
   ]
  },
  {
   "cell_type": "code",
   "execution_count": 19,
   "metadata": {
    "execution": {
     "iopub.execute_input": "2021-11-05T07:47:04.196515Z",
     "iopub.status.busy": "2021-11-05T07:47:04.196186Z",
     "iopub.status.idle": "2021-11-05T07:47:05.285477Z",
     "shell.execute_reply": "2021-11-05T07:47:05.284504Z",
     "shell.execute_reply.started": "2021-11-05T07:47:04.196478Z"
    }
   },
   "outputs": [],
   "source": [
    "df = pd.read_csv(\"../input/kaggle-survey-2021/kaggle_survey_2021_responses.csv\")\n",
    "df = df.iloc[1:, :] #이건 왜 선택 해 놓은 것일까요?\n",
    "df.head()\n",
    "\n",
    "df.info()\n",
    "\n",
    "\n"
   ]
  },
  {
   "cell_type": "markdown",
   "metadata": {},
   "source": [
    "df에 pd.read_csv로 csv file을 읽어 옵니다. \n",
    "\n",
    "역시 pd인 df객체에 iloc을 이용하여 \\[ 1행부터 : , : \\] iloc를 선택 해 놓았다. \n",
    "\n",
    "\n",
    "1. 행번호(row number)로 선택하는 방법 **(.iloc)**\n",
    "2. label이나 조건표현으로 선택하는 방법 (.loc)\n",
    "\n",
    "Ref. [loc를 이용한 행 선택](https://azanewta.tistory.com/34)"
   ]
  },
  {
   "cell_type": "markdown",
   "metadata": {},
   "source": [
    "<br>\n",
    "\n",
    "<center style=\"font-size:300%; font-family:Hiragino Kaku Gothic Pro, sans-serif\"> 0. Introduction</center>\n",
    "<br>\n",
    "\n",
    "<div style=\"font-size:130%; font-family:Hiragino Kaku Gothic Pro, sans-serif\"> \n",
    "    \n",
    "This notebook will explore the fascinating results obtained from the survey conducted by Kaggle in September 2021. Over 25,000 data scientists and ML engineers participated, providing information on their backgrounds and experience in their occupations. <br>\n",
    "\n",
    "To increase readability, this report is divided into four sections: </div>\n",
    "    \n",
    "1. <div style=\"font-size:130%; font-family:Hiragino Kaku Gothic Pro, sans-serif\">Demographics & Geographics</div>\n",
    "\n",
    "2. <div style=\"font-size:130%; font-family:Hiragino Kaku Gothic Pro, sans-serif\">Education & Occupation </div>\n",
    "\n",
    "3. <div style=\"font-size:130%; font-family:Hiragino Kaku Gothic Pro, sans-serif\">Knowledge & Skills</div>\n",
    "\n",
    "4. <div style=\"font-size:130%; font-family:Hiragino Kaku Gothic Pro, sans-serif\">Platforms & Media</div>\n",
    "\n",
    "<br>\n",
    "\n",
    "***"
   ]
  },
  {
   "cell_type": "markdown",
   "metadata": {},
   "source": [
    "Introduction \n",
    "이 노트북은 25000 data scientist들과 ML Engineer들의 kaggle에서 경험 한것을 조사한 data를  매력적인 결과로 탐험 하게 될 것이다. \n",
    "(대충)\n",
    "\n",
    "; Introduction 에서 이 notebook의 성격, data의 간간한 정보, 목차 등을 설명.\n"
   ]
  },
  {
   "cell_type": "markdown",
   "metadata": {},
   "source": [
    "<center style=\"font-size:300%; font-family:Hiragino Kaku Gothic Pro, sans-serif\"> 1. Demographics & Geographics</center>\n",
    "\n",
    "\n",
    "모든 글은 Markdown을 이용한 css 로 작성 된 것 같다. "
   ]
  },
  {
   "cell_type": "code",
   "execution_count": null,
   "metadata": {},
   "outputs": [],
   "source": []
  },
  {
   "cell_type": "markdown",
   "metadata": {},
   "source": [
    "<blockquote><p style=\"font-size:130%; font-family:Hiragino Kaku Gothic Pro, sans-serif\"><b> The most common industry is technology, with <span style=\"color:#5abbf9;\">25% </span> of the respondents working on it, followed by the education industry, with <span style=\"color:#5abbf9;\">20%</span>.</b><p></blockquote>\n",
    "\n",
    "<center style=\"font-size:300%; font-family:Hiragino Kaku Gothic Pro, sans-serif\"> 3. Knowledge & Skills</center>"
   ]
  },
  {
   "cell_type": "code",
   "execution_count": null,
   "metadata": {},
   "outputs": [],
   "source": [
    "experience = (\n",
    "    df['Q6']\n",
    "    .value_counts()\n",
    "    .to_frame()\n",
    "    .reset_index()\n",
    "    .rename(columns={'index':'Experience', 'Q6':'Count'})\n",
    "    .replace(['I have never written code','< 1 years',\n",
    "              '1-3 years', '3-5 years', '5-10 years',\n",
    "              '10-20 years', '20+ years'], ['No experience', '<1 years',\n",
    "                                        '1-3 years', '3-5 years', '5-10 years',\n",
    "                                        '10-20 years', '20+ years'])\n",
    "          ) "
   ]
  },
  {
   "cell_type": "code",
   "execution_count": 20,
   "metadata": {
    "execution": {
     "iopub.execute_input": "2021-11-05T07:49:49.734945Z",
     "iopub.status.busy": "2021-11-05T07:49:49.734592Z",
     "iopub.status.idle": "2021-11-05T07:49:49.748699Z",
     "shell.execute_reply": "2021-11-05T07:49:49.747989Z",
     "shell.execute_reply.started": "2021-11-05T07:49:49.734912Z"
    }
   },
   "outputs": [],
   "source": [
    " df['Q6'].value_counts()  #여러개의 fuction을 사용 하기 위해서 괄호로 묶어서 사용 "
   ]
  },
  {
   "cell_type": "markdown",
   "metadata": {},
   "source": [
    "1. .value_counts() : 데이터의 분포도를 확인하는데 매우 유용한 함수\n",
    "  - column 값의 개수를 확인 하는것.\n",
    "2. .to_frame() : 하\n",
    "   .rename(columns={'index':'Experience', 'Q6':'Count'}) \n",
    "3. reset_index()\n",
    "  - Index를 reset해 준다. \n",
    "  \n",
    "  Ref. [판다스 함수](https://hun931018.tistory.com/19)"
   ]
  },
  {
   "cell_type": "code",
   "execution_count": 21,
   "metadata": {
    "execution": {
     "iopub.execute_input": "2021-11-05T07:50:23.478271Z",
     "iopub.status.busy": "2021-11-05T07:50:23.477990Z",
     "iopub.status.idle": "2021-11-05T07:50:23.490617Z",
     "shell.execute_reply": "2021-11-05T07:50:23.489957Z",
     "shell.execute_reply.started": "2021-11-05T07:50:23.478240Z"
    }
   },
   "outputs": [],
   "source": []
  },
  {
   "cell_type": "markdown",
   "metadata": {},
   "source": [
    "## data 수집, 전처리 \n",
    "Experience라는 Question 6에 해당하는 값을 전처리 해 준다. \n",
    "\n"
   ]
  },
  {
   "cell_type": "code",
   "execution_count": 15,
   "metadata": {
    "execution": {
     "iopub.execute_input": "2021-11-05T07:37:32.898069Z",
     "iopub.status.busy": "2021-11-05T07:37:32.897514Z",
     "iopub.status.idle": "2021-11-05T07:37:33.187264Z",
     "shell.execute_reply": "2021-11-05T07:37:33.186492Z",
     "shell.execute_reply.started": "2021-11-05T07:37:32.898015Z"
    }
   },
   "outputs": [],
   "source": [
    "\n",
    "\n",
    "experience['Experience'] = pd.Categorical(\n",
    "                                        experience['Experience'], \n",
    "                                        ['No experience', '<1 years',\n",
    "                                        '1-3 years', '3-5 years', '5-10 years',\n",
    "                                        '10-20 years', '20+ years']\n",
    "                                         )\n",
    "                                         \n",
    "\n",
    "experience['percent'] = ((experience['Count'] / experience['Count'].sum())*100).round(2).astype(str) + '%'\n",
    "\n",
    "experience = experience.sort_values('Experience')\n",
    "\n",
    "colors = ['#033351',] * 7\n",
    "colors[1] = '#5abbf9'\n",
    "colors[2] = '#5abbf9'\n",
    "colors[3] = '#0779c3'\n",
    "colors[4] = '#0779c3'\n",
    "\n",
    "\n",
    "fig = go.Figure(go.Bar(\n",
    "            y=experience['Count'],\n",
    "            x=experience['Experience'],\n",
    "            cliponaxis = False,\n",
    "            text=experience['percent'],\n",
    "            marker_color=colors\n",
    "                        ))\n",
    "\n",
    "fig.update_traces(texttemplate='%{text}', \n",
    "                  textposition='outside',\n",
    "                  hovertemplate='<b>Experience</b>: %{x}<br><extra></extra>'+\n",
    "                                '<b>Count</b>: %{y}',\n",
    "                  textfont_size=12)\n",
    "                  \n",
    "fig.update_xaxes(showgrid=False)\n",
    "fig.update_yaxes(showgrid=False)\n",
    " \n",
    "fig.update_layout(showlegend=False, \n",
    "                  plot_bgcolor='#F7F7F7', \n",
    "                  margin=dict(pad=20),\n",
    "                  paper_bgcolor='#F7F7F7',\n",
    "                  height=500,\n",
    "                  yaxis={'showticklabels': False},\n",
    "                  yaxis_title=None,\n",
    "                  xaxis_title=None,\n",
    "                  title_text=\"<b>Experience</b> Distribution\",\n",
    "                  title_x=0.5,\n",
    "                  font=dict(family=\"Hiragino Kaku Gothic Pro, sans-serif\", size=14, color='#000000'),\n",
    "                  title_font_size=35)\n",
    "\n",
    "fig.add_annotation(dict(font=dict(size=14),\n",
    "                                    x=0.98,\n",
    "                                    y=-0.24,\n",
    "                                    showarrow=False,\n",
    "                                    text=\"@miguelfzzz\",\n",
    "                                    xanchor='left',\n",
    "                                    xref=\"paper\",\n",
    "                                    yref=\"paper\"))\n",
    "\n",
    "fig.add_annotation(dict(font=dict(size=12),\n",
    "                                    x=-0.03,\n",
    "                                    y=-0.24,\n",
    "                                    showarrow=False,\n",
    "                                    text=\"Source: 2021 Kaggle Machine Learning & Data Science Survey\",\n",
    "                                    xanchor='left',\n",
    "                                    xref=\"paper\",\n",
    "                                    yref=\"paper\"))\n",
    "fig.show()"
   ]
  },
  {
   "cell_type": "markdown",
   "metadata": {},
   "source": [
    "df에 Q6이라는 value를 담았다. "
   ]
  },
  {
   "cell_type": "markdown",
   "metadata": {},
   "source": []
  }
 ],
 "metadata": {
  "kernelspec": {
   "display_name": "Python 3",
   "language": "python",
   "name": "python3"
  },
  "language_info": {
   "codemirror_mode": {
    "name": "ipython",
    "version": 3
   },
   "file_extension": ".py",
   "mimetype": "text/x-python",
   "name": "python",
   "nbconvert_exporter": "python",
   "pygments_lexer": "ipython3",
   "version": "3.8.8"
  }
 },
 "nbformat": 4,
 "nbformat_minor": 4
}
