{
 "cells": [
  {
   "cell_type": "markdown",
   "metadata": {
    "colab_type": "text",
    "id": "view-in-github"
   },
   "source": [
    "<a href=\"https://colab.research.google.com/github/YoonHwa-P/MyBlog/blob/main/21_11_01_Python_List.ipynb\" target=\"_parent\"><img src=\"https://colab.research.google.com/assets/colab-badge.svg\" alt=\"Open In Colab\"/></a>"
   ]
  },
  {
   "cell_type": "markdown",
   "metadata": {
    "id": "APeC483SQnUu"
   },
   "source": [
    "## google Colaboratory 를 이용한 실습\n",
    "\n",
    "\n"
   ]
  },
  {
   "cell_type": "markdown",
   "metadata": {
    "id": "gIBtgUQyRzgc"
   },
   "source": [
    "# Intro_ print와 주석처리"
   ]
  },
  {
   "cell_type": "markdown",
   "metadata": {
    "id": "FSD1wBIrR9js"
   },
   "source": [
    "- print Out"
   ]
  },
  {
   "cell_type": "code",
   "execution_count": 2,
   "metadata": {
    "colab": {
     "base_uri": "https://localhost:8080/"
    },
    "id": "9b78rIVxQJoj",
    "outputId": "1fec94e5-2538-4c1d-df7b-d3bf8013e649"
   },
   "outputs": [
    {
     "name": "stdout",
     "output_type": "stream",
     "text": [
      "Hello, World !!\n"
     ]
    }
   ],
   "source": [
    "print(\"Hello, World !!\")"
   ]
  },
  {
   "cell_type": "markdown",
   "metadata": {
    "id": "mu5-g5sEG6vY"
   },
   "source": [
    "이제 우리는 모든 것을 나타 낼 수 있습니다. "
   ]
  },
  {
   "cell_type": "markdown",
   "metadata": {
    "id": "P_svduGURPrV"
   },
   "source": [
    "- 주석처리"
   ]
  },
  {
   "cell_type": "code",
   "execution_count": 116,
   "metadata": {
    "colab": {
     "base_uri": "https://localhost:8080/"
    },
    "id": "dfkXeuc-Q0OI",
    "outputId": "174c233c-9383-49f6-e6df-d452a80e439f"
   },
   "outputs": [
    {
     "name": "stdout",
     "output_type": "stream",
     "text": [
      "Hello, World!!\n"
     ]
    }
   ],
   "source": [
    "# 한 줄로 주석 처리 하는 방법 \n",
    "\"\"\"\n",
    "여러줄은 이렇게 \n",
    "print(\"Hello, World??\")\n",
    "\"\"\"\n",
    "\n",
    "print(\"Hello, World!!\") #주석 처리한 부분은 안나오지"
   ]
  },
  {
   "cell_type": "markdown",
   "metadata": {
    "id": "4wUPRF2bRwlK"
   },
   "source": [
    "# 변수의 종류"
   ]
  },
  {
   "cell_type": "markdown",
   "metadata": {
    "id": "qO5lda40SAdz"
   },
   "source": [
    "\n",
    "*   int : 정수\n",
    "*   float : 실수\n",
    "*   bool : 참/거짓\n",
    "* none : null\n",
    "*String : 문자\n",
    "\n",
    "\n",
    "\n",
    "\n"
   ]
  },
  {
   "cell_type": "markdown",
   "metadata": {
    "id": "LPO4ovklHMo_"
   },
   "source": [
    "이전에 배웠던 JAVA와는 다르게 변수형을 지정 해 주지 않아도 된다"
   ]
  },
  {
   "cell_type": "markdown",
   "metadata": {
    "id": "VKxkXp3KRyGs"
   },
   "source": [
    "\n",
    "Type 함수는 그 변수의 type이 어떤 것인지 알려준다. "
   ]
  },
  {
   "cell_type": "code",
   "execution_count": 13,
   "metadata": {
    "colab": {
     "base_uri": "https://localhost:8080/"
    },
    "id": "XZ2gBRVuTKXs",
    "outputId": "58a636e4-3f5f-440f-dc52-092a888b6bef"
   },
   "outputs": [
    {
     "name": "stdout",
     "output_type": "stream",
     "text": [
      "<class 'int'>\n",
      "<class 'float'>\n",
      "<class 'bool'>\n",
      "<class 'NoneType'>\n"
     ]
    }
   ],
   "source": [
    "N_int = 1\n",
    "print (type(N_int))\n",
    "#Type 함수 : type 을 print 해 준다 \n",
    "\n",
    "N1_float = 2.0\n",
    "print (type(N1_float))\n",
    "\n",
    "bool_N = True\n",
    "print (type(bool_N))\n",
    "\n",
    "X= None\n",
    "print (type(X))"
   ]
  },
  {
   "cell_type": "markdown",
   "metadata": {
    "id": "NYMSybXwVl0M"
   },
   "source": [
    "# 연산"
   ]
  },
  {
   "cell_type": "markdown",
   "metadata": {
    "id": "Rh27hMRsVogO"
   },
   "source": [
    "- 사칙연산"
   ]
  },
  {
   "cell_type": "markdown",
   "metadata": {
    "id": "a0myRSYbWjqM"
   },
   "source": [
    "Number type"
   ]
  },
  {
   "cell_type": "code",
   "execution_count": 118,
   "metadata": {
    "colab": {
     "base_uri": "https://localhost:8080/"
    },
    "id": "NL41wUvfVpcj",
    "outputId": "cd3599d6-d151-469f-c599-b70967042535"
   },
   "outputs": [
    {
     "name": "stdout",
     "output_type": "stream",
     "text": [
      "정수_int_의 사칙연산 \n",
      "a + b =  3\n",
      "a - b =  -1\n",
      "a * b =  2\n",
      "a / b =  0.5\n",
      "a // b =  0\n",
      "a % b =  1\n",
      "a ** b =  1\n",
      "실수_float_의 사칙연산 \n",
      "c + d = 4.554\n",
      "c - d = 1.7260000000000002\n",
      "c * d = 4.43996\n",
      "c / d = 2.2206506364922207\n",
      "c // d = 2.0\n",
      "c % d = 0.3120000000000003\n",
      "c ** d = 5.042646477882085\n"
     ]
    }
   ],
   "source": [
    "a = 1\n",
    "b = 2\n",
    "c = 3.14\n",
    "d = 1.414\n",
    "print (\"정수_int_의 사칙연산 \")\n",
    "print ('a + b = ' , a+b)\n",
    "print('a - b = ', a-b)\n",
    "print('a * b = ', a*b)\n",
    "print('a / b = ', a/b)\n",
    "print('a // b = ', a//b)\n",
    "print('a % b = ', a%b)\n",
    "print('a ** b = ', a**b)\n",
    "print (\"실수_float_의 사칙연산 \")\n",
    "print('c + d =', c+d)\n",
    "print('c - d =', c-d)\n",
    "print('c * d =', c*d)\n",
    "print('c / d =', c/d)\n",
    "print('c // d =', c//d)\n",
    "print('c % d =', c%d)\n",
    "print('c ** d =', c**d)\n"
   ]
  },
  {
   "cell_type": "markdown",
   "metadata": {
    "id": "m06kIHMqWoq0"
   },
   "source": [
    "- String 연산"
   ]
  },
  {
   "cell_type": "code",
   "execution_count": 18,
   "metadata": {
    "colab": {
     "base_uri": "https://localhost:8080/"
    },
    "id": "3JKUqOkeWn2q",
    "outputId": "3ca02a77-c499-4132-c8a9-2dd0c0d3d505"
   },
   "outputs": [
    {
     "name": "stdout",
     "output_type": "stream",
     "text": [
      "str1 + str2 =  hibye\n",
      "str 1 * 3 + str * 2 =  hihihibyebye\n"
     ]
    }
   ],
   "source": [
    "str1 = \"hi\"\n",
    "str2 = \"bye\"\n",
    "print('str1 + str2 = ', str1 + str2 )\n",
    "print ('str 1 * 3 + str * 2 = ', str1 * 3 + str2 * 2  )"
   ]
  },
  {
   "cell_type": "markdown",
   "metadata": {
    "id": "pBesDYYEZV3z"
   },
   "source": [
    "# indexing"
   ]
  },
  {
   "cell_type": "code",
   "execution_count": 121,
   "metadata": {
    "colab": {
     "base_uri": "https://localhost:8080/",
     "height": 163
    },
    "id": "Z7s27C3HXQSr",
    "outputId": "581eba57-ea1a-4d9a-e89e-031d698ce6c1"
   },
   "outputs": [
    {
     "name": "stdout",
     "output_type": "stream",
     "text": [
      "Hi!Hellow? AnNyung!\n",
      "low? AnNyung!\n",
      "Hi!Hel\n",
      "345 6789@\n",
      "123\n",
      "2345 678\n",
      "146\n"
     ]
    },
    {
     "data": {
      "application/vnd.google.colaboratory.intrinsic+json": {
       "type": "string"
      },
      "text/plain": [
       "' \\n[a : b : c]\\n  a :  시작 index\\n  b : 끝 Index\\n  c : 띄워서\\n'"
      ]
     },
     "execution_count": 121,
     "metadata": {},
     "output_type": "execute_result"
    }
   ],
   "source": [
    "greeting = \"Hi!Hellow? AnNyung!\"\n",
    "print(greeting)\n",
    "#greeting, 이하니처럼 인사를 해 봅시다. \n",
    "\n",
    "print(greeting[6:])\n",
    "print(greeting [:6])\n",
    "\n",
    "\n",
    "G = \"12345 6789@\"\n",
    "print (G[2:])\n",
    "print (G[:3])\n",
    "print (G[1:9])\n",
    "print (G[0:7:3])\n",
    "\n",
    "\"\"\" \n",
    "[a : b : c]\n",
    "  a :  시작 index\n",
    "  b : 끝 Index\n",
    "  c : 띄워서\n",
    "\"\"\" "
   ]
  },
  {
   "cell_type": "markdown",
   "metadata": {
    "id": "CXpY6bbhZN2u"
   },
   "source": [
    "# List"
   ]
  },
  {
   "cell_type": "markdown",
   "metadata": {
    "id": "fU3qOfdedxHZ"
   },
   "source": [
    "- List 함수 종류\n",
    "  + .append() : 추가\n",
    "  + .extend() : 연장\n",
    "  + .remove() : 제거\n",
    "  + .del() : 제거\n",
    "  + .pop()  :Index설정\n",
    "  + .clear() : 전체 삭제\n",
    "\n",
    "  Internet에 더 많은 함수를 찾을 수 있는 documents 가 있을 것이다. \n",
    "^^\n",
    "\n",
    "  https://docs.python.org/3/tutorial/datastructures.html"
   ]
  },
  {
   "cell_type": "markdown",
   "metadata": {
    "id": "RFTxk2egZdA4"
   },
   "source": [
    "List란, java로 치면 배열\n",
    "\n",
    "List create 부터 "
   ]
  },
  {
   "cell_type": "code",
   "execution_count": 115,
   "metadata": {
    "colab": {
     "base_uri": "https://localhost:8080/"
    },
    "id": "O6gQjE4RZklC",
    "outputId": "a5071e7f-742d-4786-d678-9ab800db8ff1"
   },
   "outputs": [
    {
     "name": "stdout",
     "output_type": "stream",
     "text": [
      "List 를 생성 해 봅시다.\n",
      "a함수에 직접적 Index로 넣어주기\n",
      "['I', 'Have', ['a', 'DreAm']]\n",
      "a[0]= 'YOU'의 결과 \n",
      "['YOU', 'Have', ['a', 'DreAm']]\n",
      "[]\n",
      "A[0:] : A의 모든 원소 추출\n",
      "['U', 'song', ['to', 'sing']]\n",
      " \n",
      "a : a에 Extend를 이용하여 원소 추가하기\n",
      "['YOU', 'Have', ['a', 'DreAm']]\n",
      "['YOU', 'Have', ['a', 'DreAm'], 'U']\n",
      "['YOU', 'Have', ['a', 'DreAm'], 'U', 'song', 'to', 'sing']\n",
      "a : a에 연산자를 이용하여  원소 추가하기\n",
      "['YOU', 'Have', ['a', 'DreAm'], 'U', 'song', 'to', 'sing', 'Like U']\n",
      "['YOU', 'Have', ['a', 'DreAm'], 'U', 'song', 'to', 'sing', 'Like U']\n",
      "a : a에 insert를 이용하여 원하는 Index번호에 원소 추가하기\n",
      "['YOU', 'do not', 'Have', ['a', 'DreAm'], 'U', 'song', 'to', 'sing', 'Like U']\n"
     ]
    }
   ],
   "source": [
    "print(\"List 를 생성 해 봅시다.\")\n",
    "A = [] #변수선언으로 빈 리스트 만들기\n",
    "a= list() #List 함수로 만들기 \n",
    "\n",
    "a = ['I', 'Have', ['a', 'DreAm']]\n",
    "\n",
    "\n",
    "print (\"a함수에 직접적 Index로 넣어주기\")\n",
    "print (a)\n",
    "print (\"a[0]= 'YOU'의 결과 \")\n",
    "a[0]= 'YOU'\n",
    "print (a)\n",
    "\n",
    "\n",
    "#List에 값 추가 해 주기\n",
    "print(A)\n",
    "A.append('U')\n",
    "A.append('song')\n",
    "A.append(['to', 'sing'])\n",
    "print(\"A[0:] : A의 모든 원소 추출\")\n",
    "print(A[0:])\n",
    "print(\" \")\n",
    "#Extend \n",
    "print(\"a : a에 Extend를 이용하여 원소 추가하기\")\n",
    "print(a)\n",
    "a.extend('U')\n",
    "print(a)\n",
    "a.extend(['song', 'to', 'sing'])\n",
    "print(a)\n",
    "\n",
    "#Extend 와 같은 느낌으로 \"+=\" 연산자를 써 줄수 있다. \n",
    "print(\"a : a에 연산자를 이용하여  원소 추가하기\")  \n",
    "a += ['Like U']\n",
    "print(a)\n",
    "\n",
    "#Insert는 중간에 인덱스 값을 넣어 주어서 List에 값을 추가 해 줄 수 있다. \n",
    "print(a)\n",
    "print(\"a : a에 insert를 이용하여 원하는 Index번호에 원소 추가하기\")\n",
    "a.insert(1,'do not')\n",
    "print(a)\n",
    "del a[1:1]\n",
    "#다음 코드를 위해 a의 Index 1에 넣어준 원소를 제거 했음 "
   ]
  },
  {
   "cell_type": "markdown",
   "metadata": {
    "id": "o6_0zOz8rYzg"
   },
   "source": [
    "리스트 연산 "
   ]
  },
  {
   "cell_type": "code",
   "execution_count": 76,
   "metadata": {
    "colab": {
     "base_uri": "https://localhost:8080/"
    },
    "id": "emU6Wy-xrY9m",
    "outputId": "d6c53026-742a-4923-e450-16d95fd2a063"
   },
   "outputs": [
    {
     "name": "stdout",
     "output_type": "stream",
     "text": [
      "['U', 'do not', 'song', 'to', 'sing', 'U', 'song', ['to', 'sing']]\n"
     ]
    }
   ],
   "source": [
    "C = a+A\n",
    "print(\"a+A의 연산결과 : \", C)"
   ]
  },
  {
   "cell_type": "markdown",
   "metadata": {
    "id": "GYeesaWhej4U"
   },
   "source": [
    "리스트에 값 삭제 해 주기 "
   ]
  },
  {
   "cell_type": "code",
   "execution_count": 112,
   "metadata": {
    "colab": {
     "base_uri": "https://localhost:8080/",
     "height": 555
    },
    "id": "91AklzLJeuXX",
    "outputId": "3fee121f-993c-4fbb-c0d8-5efb386ceb3c"
   },
   "outputs": [
    {
     "name": "stdout",
     "output_type": "stream",
     "text": [
      "리스트 값 삭제하기 \n",
      "[1, 2, 3, 4, 5, 6]\n",
      "[7, 8, 9, 10, 11, 12, 13, 1, 4]\n",
      "b의 1번째 삭제\n",
      "[1, 3, 4, 5, 6]\n",
      "B의 1~2 번째 삭제 : [1:2]\n",
      "[7, 9, 10, 11, 12, 13, 1, 4]\n",
      "K :  [0, 1, 2, 3, 4, 5, 8, 6, 7, 9, 10, 0, 12]\n",
      "K.remove(0) :  [1, 2, 3, 4, 5, 8, 6, 7, 9, 10, 0, 12]\n",
      "K.insert(0,1) :  [1, 1, 2, 3, 4, 5, 8, 6, 7, 9, 10, 0, 12]\n",
      "b.pop() : \n",
      "6  : ()안에 아무것도 쓰지 않으면 맨 마지막 \n",
      "B.pop(1) : \n",
      "9  : ()안에 숫자를 쓰면 (1) 1번Index 뽑아내기\n",
      "Index 숫자로 pop과 같은 기능을 실행 할 수 있다. \n",
      "['hi', 'do not', 'Have', ['a', 'DreAm'], 'U', 'song', 'to', 'sing', 'd', 'i', 'd', ' ', 'n', 'o', 't']\n",
      "a\n"
     ]
    },
    {
     "ename": "IndexError",
     "evalue": "ignored",
     "output_type": "error",
     "traceback": [
      "\u001b[0;31m---------------------------------------------------------------------------\u001b[0m",
      "\u001b[0;31mIndexError\u001b[0m                                Traceback (most recent call last)",
      "\u001b[0;32m<ipython-input-112-d37801788a81>\u001b[0m in \u001b[0;36m<module>\u001b[0;34m()\u001b[0m\n\u001b[1;32m     40\u001b[0m \u001b[0mprint\u001b[0m \u001b[0;34m(\u001b[0m\u001b[0ma\u001b[0m\u001b[0;34m[\u001b[0m\u001b[0;36m0\u001b[0m\u001b[0;34m:\u001b[0m\u001b[0;34m]\u001b[0m\u001b[0;34m)\u001b[0m\u001b[0;34m\u001b[0m\u001b[0;34m\u001b[0m\u001b[0m\n\u001b[1;32m     41\u001b[0m \u001b[0mprint\u001b[0m \u001b[0;34m(\u001b[0m\u001b[0ma\u001b[0m\u001b[0;34m[\u001b[0m\u001b[0;36m2\u001b[0m\u001b[0;34m]\u001b[0m\u001b[0;34m[\u001b[0m\u001b[0;36m1\u001b[0m\u001b[0;34m]\u001b[0m\u001b[0;34m)\u001b[0m\u001b[0;34m\u001b[0m\u001b[0;34m\u001b[0m\u001b[0m\n\u001b[0;32m---> 42\u001b[0;31m \u001b[0mprint\u001b[0m \u001b[0;34m(\u001b[0m\u001b[0ma\u001b[0m\u001b[0;34m[\u001b[0m\u001b[0;36m2\u001b[0m\u001b[0;34m]\u001b[0m\u001b[0;34m[\u001b[0m\u001b[0;36m1\u001b[0m\u001b[0;34m]\u001b[0m\u001b[0;34m[\u001b[0m\u001b[0;36m3\u001b[0m\u001b[0;34m]\u001b[0m\u001b[0;34m)\u001b[0m\u001b[0;34m\u001b[0m\u001b[0;34m\u001b[0m\u001b[0m\n\u001b[0m\u001b[1;32m     43\u001b[0m \u001b[0;34m\u001b[0m\u001b[0m\n\u001b[1;32m     44\u001b[0m \u001b[0;31m#List 전체 삭제\u001b[0m\u001b[0;34m\u001b[0m\u001b[0;34m\u001b[0m\u001b[0;34m\u001b[0m\u001b[0m\n",
      "\u001b[0;31mIndexError\u001b[0m: string index out of range"
     ]
    }
   ],
   "source": [
    "b=[1, 2, 3, 4, 5, 6 ]\n",
    "B=[7, 8, 9, 10, 11, 12, 13, 1, 4]\n",
    "print(\"리스트 값 삭제하기 \")\n",
    "print(b)\n",
    "print(B)\n",
    "\n",
    "print(\"b의 1번째 삭제\")\n",
    "#1개씩 삭제 해 주기 \n",
    "del b[1]\n",
    "print(b)\n",
    "\n",
    "print(\"B의 1~2 번째 삭제 : [1:2]\")\n",
    "#범위로 삭제 해 주기 \n",
    "del B[1:2]\n",
    "print(B)\n",
    "\n",
    "\n",
    "#중복 값을 삭제 해 주는 function\n",
    "K=[0, 1, 2, 3, 4, 5, 8, 6, 7, 9, 10, 0, 12]\n",
    "print(\"K : \", K)\n",
    "\n",
    "K.remove(0)\n",
    "print(\"K.remove(0) : \", K)\n",
    "\n",
    "K.insert(0, 1)\n",
    "print(\"K.insert(0,1) : \", K)\n",
    "\n",
    "\n",
    "\n",
    "#pop은 Index를 정해서 특정 문자에 정해 줄 수 있다.  \n",
    "S = b.pop()\n",
    "SS= B.pop(1)\n",
    "print(\"b.pop() : \")\n",
    "print (S, \" : ()안에 아무것도 쓰지 않으면 맨 마지막 \")\n",
    "print(\"B.pop(1) : \")\n",
    "print(SS, \" : ()안에 숫자를 쓰면 (1) 1번Index 뽑아내기\")\n",
    "\n",
    "#pop과 같은 느낌으로 특정 문자를 뽑아 내기 \n",
    "print(\"Index 숫자로 pop과 같은 기능을 실행 할 수 있다. \")\n",
    "print (a[0:])\n",
    "print (a[2][1])\n",
    "print (a[2][1][3])\n",
    "\n",
    "#List 전체 삭제\n",
    "\n"
   ]
  },
  {
   "cell_type": "markdown",
   "metadata": {
    "id": "mf3Ao89IqarE"
   },
   "source": [
    "List 값을 덮어 쓰는 기능 "
   ]
  },
  {
   "cell_type": "code",
   "execution_count": 105,
   "metadata": {
    "colab": {
     "base_uri": "https://localhost:8080/"
    },
    "id": "WZc_kJZIqa3H",
    "outputId": "5466c9e1-3264-451a-9d21-0b02ab758790"
   },
   "outputs": [
    {
     "name": "stdout",
     "output_type": "stream",
     "text": [
      "A[] =  ['U', 'i', 'do', 'NOT', 'know', 'do', 'NOT', 'know', 'do', 'NOT', 'know', ['to', 'sing']]\n",
      "A[1:2]= ['i', 'do', 'NOT', 'know']의 결과 \n",
      "['U', 'i', 'do', 'NOT', 'know', 'do', 'NOT', 'know', 'do', 'NOT', 'know', 'do', 'NOT', 'know', ['to', 'sing']]\n",
      "del A [1:4] :  ['U', 'know', 'do', 'NOT', 'know', 'do', 'NOT', 'know', 'do', 'NOT', 'know', ['to', 'sing']]\n"
     ]
    }
   ],
   "source": [
    "print (\"A[] = \", A) \n",
    "print (\"A[1:2]= ['i', 'do', 'NOT', 'know']의 결과 \")\n",
    "A[1:2]= ['i', 'do', 'NOT', 'know']\n",
    "print (A) \n",
    "# A[]에 1번 Index에 범위보다 큰 수가 엎어 씌어 진 것을 볼 수 있다. \n",
    "\n",
    "del A [1:4]\n",
    "print(\"del A [1:4] : \", A)"
   ]
  },
  {
   "cell_type": "markdown",
   "metadata": {
    "id": "GPL646KtptSH"
   },
   "source": [
    "# Ref.\n"
   ]
  },
  {
   "cell_type": "markdown",
   "metadata": {
    "id": "9yA2hruopwWv"
   },
   "source": [
    "https://dojang.io/course/view.php?id=7\n",
    "\n",
    "보고 공부 할 수 있어요 "
   ]
  }
 ],
 "metadata": {
  "colab": {
   "authorship_tag": "ABX9TyM1vx1XTFZxBW/CC3KSoUd5",
   "collapsed_sections": [],
   "include_colab_link": true,
   "name": "21.11.01_Python_List.ipynb",
   "provenance": [],
   "toc_visible": true
  },
  "kernelspec": {
   "display_name": "Python 3",
   "language": "python",
   "name": "python3"
  },
  "language_info": {
   "codemirror_mode": {
    "name": "ipython",
    "version": 3
   },
   "file_extension": ".py",
   "mimetype": "text/x-python",
   "name": "python",
   "nbconvert_exporter": "python",
   "pygments_lexer": "ipython3",
   "version": "3.8.8"
  }
 },
 "nbformat": 4,
 "nbformat_minor": 1
}
